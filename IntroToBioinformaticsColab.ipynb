{
  "nbformat": 4,
  "nbformat_minor": 0,
  "metadata": {
    "colab": {
      "provenance": [],
      "authorship_tag": "ABX9TyNtwfZI+Ddo3MIRaH13cg63",
      "include_colab_link": true
    },
    "kernelspec": {
      "name": "python3",
      "display_name": "Python 3"
    },
    "language_info": {
      "name": "python"
    }
  },
  "cells": [
    {
      "cell_type": "markdown",
      "metadata": {
        "id": "view-in-github",
        "colab_type": "text"
      },
      "source": [
        "<a href=\"https://colab.research.google.com/github/PranavMunigala/Bioinformatics/blob/main/IntroToBioinformaticsColab.ipynb\" target=\"_parent\"><img src=\"https://colab.research.google.com/assets/colab-badge.svg\" alt=\"Open In Colab\"/></a>"
      ]
    },
    {
      "cell_type": "markdown",
      "source": [
        "**Why We Do This**: The whole point of this process is to sift through tons of bioactivity data to find the compounds that might be worth exploring further as potential drugs. By pulling data from big databases and cleaning it up, we can zero in on the compounds that show real promise. This makes it easier to focus on the ones that are most likely to work, which can save a lot of time and effort in drug development and increase the chances of finding effective treatments.\n",
        "\n",
        "Key vocabulary:\n",
        "\n",
        "*   **Bioactivity**: The effect a compound has on a biological target, such as a protein.\n",
        "\n",
        "* **Standard Value**: A numerical measure of a compound's bioactivity, which can be represented in various units like IC50 or EC50.\n",
        "\n",
        "\n",
        "*   **EC50** (Half-Maximal Effective Concentration): The concentration required to achieve 50% of the maximum effect.\n",
        "\n",
        "\n",
        "*   **Canonical SMILES**: A text-based notation for representing chemical structures.\n",
        "\n",
        "*   **Data Pre-Processing**: The process of cleaning and organizing raw data to prepare it for analysis.\n",
        "\n"
      ],
      "metadata": {
        "id": "5-V-mOpdsW0s"
      }
    },
    {
      "cell_type": "markdown",
      "source": [
        "#Step 1: Install necessary libraries\n",
        "In Google Colab, you'll first need to install the chembl_webresource_client package to retrieve bioactivity data from the ChEMBL Database."
      ],
      "metadata": {
        "id": "WQG52rIDj-i8"
      }
    },
    {
      "cell_type": "code",
      "source": [
        "# Install the ChEMBL web service client\n",
        "!pip install chembl_webresource_client"
      ],
      "metadata": {
        "collapsed": true,
        "id": "7ZklsIZfkFi-"
      },
      "execution_count": null,
      "outputs": []
    },
    {
      "cell_type": "markdown",
      "source": [
        "#Step 2: Import necessary libraries\n",
        " Once the package is installed, import the required libraries."
      ],
      "metadata": {
        "id": "zauk_RavkKz2"
      }
    },
    {
      "cell_type": "code",
      "source": [
        "# Import libraries\n",
        "import pandas as pd\n",
        "from chembl_webresource_client.new_client import new_client"
      ],
      "metadata": {
        "id": "coCUgV1KkND4"
      },
      "execution_count": null,
      "outputs": []
    },
    {
      "cell_type": "markdown",
      "source": [
        "# Step 3: Search for target protein (Acetylcholinesterase)\n",
        "Now, let's search for the target protein, Acetylcholinesterase."
      ],
      "metadata": {
        "id": "6oTC1NlRkRiB"
      }
    },
    {
      "cell_type": "code",
      "source": [
        "# Target search for Acetylcholinesterase\n",
        "target = new_client.target\n",
        "target_query = target.search('acetylcholinesterase')\n",
        "targets = pd.DataFrame.from_dict(target_query)\n",
        "targets"
      ],
      "metadata": {
        "id": "akFTfq2LkfhZ"
      },
      "execution_count": null,
      "outputs": []
    },
    {
      "cell_type": "markdown",
      "source": [
        "#Step 4: Retrieve Bioactivity Data for EC50\n",
        " \"EC50\" as the standard type (limit 800 entries)"
      ],
      "metadata": {
        "id": "HG9nFUwZkilj"
      }
    },
    {
      "cell_type": "code",
      "source": [
        "# Select the first entry, which corresponds to Human Acetylcholinesterase\n",
        "selected_target = targets.target_chembl_id[0]\n",
        "\n",
        "# Retrieve only the first 800 bioactivity data points with standard type 'EC50'\n",
        "res = activity.filter(target_chembl_id=selected_target).filter(standard_type=\"EC50\")[:800]\n",
        "\n",
        "# Convert the results into a DataFrame\n",
        "df = pd.DataFrame.from_dict(res)\n",
        "\n",
        "# Display the first few rows of the data\n",
        "df.head()\n"
      ],
      "metadata": {
        "id": "mN3PCXZDkmbg"
      },
      "execution_count": null,
      "outputs": []
    },
    {
      "cell_type": "markdown",
      "source": [
        "#Step 5: Handle missing data\n",
        "Filter out rows where there are missing values for **standard_value** and **canonical_smiles.**"
      ],
      "metadata": {
        "id": "nLOHDI_ckqhf"
      }
    },
    {
      "cell_type": "code",
      "source": [
        "# Drop rows with missing standard_value or canonical_smiles\n",
        "df2 = df[df.standard_value.notna()]\n",
        "df2 = df2[df.canonical_smiles.notna()]\n",
        "\n",
        "# Display the first few rows after handling missing data\n",
        "df2.head()"
      ],
      "metadata": {
        "id": "hJ0vI6j-k2zD"
      },
      "execution_count": null,
      "outputs": []
    },
    {
      "cell_type": "markdown",
      "source": [
        "#Step 6: Remove duplicate entries\n",
        "Ensure that each compound (represented by **canonical_smiles**) appears only once."
      ],
      "metadata": {
        "id": "OlgCj8HylAJM"
      }
    },
    {
      "cell_type": "code",
      "source": [
        "# Remove duplicate canonical_smiles entries\n",
        "df2_nr = df2.drop_duplicates(['canonical_smiles'])\n",
        "\n",
        "# Display the first few rows of the non-redundant data\n",
        "df2_nr.head()"
      ],
      "metadata": {
        "id": "QJFxosBmlE3Q"
      },
      "execution_count": null,
      "outputs": []
    },
    {
      "cell_type": "markdown",
      "source": [
        "#Step 7: Data Pre-processing\n",
        "Select relevant columns and prepare a DataFrame."
      ],
      "metadata": {
        "id": "FR8LJwcHlHia"
      }
    },
    {
      "cell_type": "code",
      "source": [
        "# Select columns for pre-processing\n",
        "selection = ['molecule_chembl_id', 'canonical_smiles', 'standard_value']\n",
        "df3 = df2_nr[selection]\n",
        "\n",
        "# Display the pre-processed data\n",
        "df3.head()"
      ],
      "metadata": {
        "id": "G05deNtslJtC"
      },
      "execution_count": null,
      "outputs": []
    },
    {
      "cell_type": "markdown",
      "source": [
        "#Step 8: Label compounds as active, inactive, or intermediate\n",
        "Label compounds based on their Standard values into three categories: active, inactive, or intermediate."
      ],
      "metadata": {
        "id": "po7d4DK4lLN-"
      }
    },
    {
      "cell_type": "code",
      "source": [
        "\n",
        "# Define the bioactivity classification\n",
        "bioactivity_threshold = []\n",
        "for value in df3.standard_value:\n",
        "    if pd.isna(value):\n",
        "        bioactivity_threshold.append(\"unknown\")\n",
        "    elif value >= 10000:\n",
        "        bioactivity_threshold.append(\"inactive\")\n",
        "    elif value <= 1000:\n",
        "        bioactivity_threshold.append(\"active\")\n",
        "    else:\n",
        "        bioactivity_threshold.append(\"intermediate\")\n",
        "\n",
        "# Add the classification to the DataFrame\n",
        "bioactivity_class = pd.Series(bioactivity_threshold, name='class')\n",
        "df5 = pd.concat([df3, bioactivity_class], axis=1)\n",
        "\n",
        "# Display the DataFrame with classifications\n",
        "df5.head()\n"
      ],
      "metadata": {
        "id": "r13L8apblSgB"
      },
      "execution_count": null,
      "outputs": []
    },
    {
      "cell_type": "markdown",
      "source": [
        "#Step 9: Save the processed data to a CSV file\n",
        "\n",
        "\n",
        "\n",
        "You can save the final DataFrame to a CSV file."
      ],
      "metadata": {
        "id": "iqxC5ZTKlVZZ"
      }
    },
    {
      "cell_type": "code",
      "source": [
        "# Save the processed data to a CSV file\n",
        "df5.to_csv('acetylcholinesterase_bioactivity_data_curated.csv', index=False)"
      ],
      "metadata": {
        "id": "Mz1OnYn4lZ6g"
      },
      "execution_count": null,
      "outputs": []
    },
    {
      "cell_type": "markdown",
      "source": [
        "#Step 10: Display the final DataFrame\n",
        "Finally, you can display the entire processed DataFrame."
      ],
      "metadata": {
        "id": "Qh0zAobcldBA"
      }
    },
    {
      "cell_type": "code",
      "source": [
        "# Display the entire DataFrame (may want to use df5.head() for large datasets)\n",
        "df5"
      ],
      "metadata": {
        "id": "mKFlQM6Zlgja"
      },
      "execution_count": null,
      "outputs": []
    },
    {
      "cell_type": "markdown",
      "source": [
        "#Step 11 (Optional): Download the CSV file from Google Colab\n",
        "If you want to download the CSV file directly from the Colab environment, you can use the following command:"
      ],
      "metadata": {
        "id": "Vz5Vmlf1liLQ"
      }
    },
    {
      "cell_type": "code",
      "source": [
        "from google.colab import files\n",
        "files.download('acetylcholinesterase_bioactivity_data_curated.csv')"
      ],
      "metadata": {
        "id": "PHc_H_AElkpG"
      },
      "execution_count": null,
      "outputs": []
    }
  ]
}